{
  "nbformat": 4,
  "nbformat_minor": 0,
  "metadata": {
    "colab": {
      "name": "Untitled1.ipynb",
      "private_outputs": true,
      "provenance": [],
      "authorship_tag": "ABX9TyMaVEFc148p85tsG8HA9NWn",
      "include_colab_link": true
    },
    "kernelspec": {
      "name": "python3",
      "display_name": "Python 3"
    },
    "language_info": {
      "name": "python"
    },
    "accelerator": "GPU"
  },
  "cells": [
    {
      "cell_type": "markdown",
      "metadata": {
        "id": "view-in-github",
        "colab_type": "text"
      },
      "source": [
        "<a href=\"https://colab.research.google.com/github/FranceCawich/REDSNUERONALES/blob/master/Untitled1.ipynb\" target=\"_parent\"><img src=\"https://colab.research.google.com/assets/colab-badge.svg\" alt=\"Open In Colab\"/></a>"
      ]
    },
    {
      "cell_type": "code",
      "execution_count": null,
      "metadata": {
        "id": "vuR89Gj6Jlmt"
      },
      "outputs": [],
      "source": [
        "import tensorflow as tf\n",
        "import numpy as np "
      ]
    },
    {
      "cell_type": "code",
      "source": [
        "days = np.array([1,2,3,4,5,8,9,10,12,15,16,17,18], dtype=float)\n",
        "\n",
        "boledo = np.array([26,41,8,17,14,85,56,81,11,39,79,82,21], dtype=float)"
      ],
      "metadata": {
        "id": "nOQUlxWRJ1LY"
      },
      "execution_count": null,
      "outputs": []
    },
    {
      "cell_type": "code",
      "source": [
        "layer1 = tf.keras.layers.Dense(units=1 , input_shape=[1])\n",
        "model = tf.keras.Sequential([layer1])"
      ],
      "metadata": {
        "id": "Lr6ULIrzIrtD"
      },
      "execution_count": null,
      "outputs": []
    },
    {
      "cell_type": "code",
      "source": [
        "model.compile(optimizer=tf.keras.optimizers.Adam(0.1),\n",
        "              loss='mean_squared_error')"
      ],
      "metadata": {
        "id": "r-k5xAprLo15"
      },
      "execution_count": null,
      "outputs": []
    },
    {
      "cell_type": "code",
      "source": [
        "print(\"starting traing.....\")\n",
        "historial =  model.fit(days, boledo, epochs=1000)\n",
        "print(\"red entrenado \")"
      ],
      "metadata": {
        "id": "PL_4rp4hMoH2"
      },
      "execution_count": null,
      "outputs": []
    },
    {
      "cell_type": "code",
      "source": [
        "import matplotlib.pyplot as plt\n",
        "plt.xlabel(\"epcoas\")\n",
        "plt.ylabel(\"perdidad\")\n",
        "plt.plot(historial.history[\"loss\"])"
      ],
      "metadata": {
        "id": "ZC9KYhTLQMIx"
      },
      "execution_count": null,
      "outputs": []
    },
    {
      "cell_type": "code",
      "source": [
        "print(\"priueba\")\n",
        "resultado = model.predict([10.0])\n",
        "print( str(resultado))"
      ],
      "metadata": {
        "id": "cafWrfwqQq7J"
      },
      "execution_count": null,
      "outputs": []
    },
    {
      "cell_type": "code",
      "source": [
        "print( \"variable del modelo\")\n",
        "print(layer1.get_weights())"
      ],
      "metadata": {
        "id": "iepmvLFdRPcC"
      },
      "execution_count": null,
      "outputs": []
    }
  ]
}